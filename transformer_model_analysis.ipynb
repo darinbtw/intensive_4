{
 "cells": [
  {
   "cell_type": "code",
   "execution_count": null,
   "id": "54e5b8c4",
   "metadata": {},
   "outputs": [
    {
     "name": "stdout",
     "output_type": "stream",
     "text": [
      "Looking in indexes: https://download.pytorch.org/whl/cu118\n",
      "Requirement already satisfied: torch in f:\\git hub projects\\intensive_4\\.venv\\lib\\site-packages (2.7.0+cpu)\n",
      "Requirement already satisfied: torchvision in f:\\git hub projects\\intensive_4\\.venv\\lib\\site-packages (0.22.0+cpu)\n",
      "Requirement already satisfied: torchaudio in f:\\git hub projects\\intensive_4\\.venv\\lib\\site-packages (2.7.0+cpu)\n",
      "Requirement already satisfied: filelock in f:\\git hub projects\\intensive_4\\.venv\\lib\\site-packages (from torch) (3.18.0)\n",
      "Requirement already satisfied: typing-extensions>=4.10.0 in f:\\git hub projects\\intensive_4\\.venv\\lib\\site-packages (from torch) (4.13.2)\n",
      "Requirement already satisfied: sympy>=1.13.3 in f:\\git hub projects\\intensive_4\\.venv\\lib\\site-packages (from torch) (1.13.3)\n",
      "Requirement already satisfied: networkx in f:\\git hub projects\\intensive_4\\.venv\\lib\\site-packages (from torch) (3.3)\n",
      "Requirement already satisfied: jinja2 in f:\\git hub projects\\intensive_4\\.venv\\lib\\site-packages (from torch) (3.1.4)\n",
      "Requirement already satisfied: fsspec in f:\\git hub projects\\intensive_4\\.venv\\lib\\site-packages (from torch) (2025.3.0)\n",
      "Requirement already satisfied: numpy in f:\\git hub projects\\intensive_4\\.venv\\lib\\site-packages (from torchvision) (2.2.5)\n",
      "Requirement already satisfied: pillow!=8.3.*,>=5.3.0 in f:\\git hub projects\\intensive_4\\.venv\\lib\\site-packages (from torchvision) (11.2.1)\n",
      "Requirement already satisfied: mpmath<1.4,>=1.1.0 in f:\\git hub projects\\intensive_4\\.venv\\lib\\site-packages (from sympy>=1.13.3->torch) (1.3.0)\n",
      "Requirement already satisfied: MarkupSafe>=2.0 in f:\\git hub projects\\intensive_4\\.venv\\lib\\site-packages (from jinja2->torch) (2.1.5)\n"
     ]
    }
   ],
   "source": [
    "# Установка необходимых библиотек\n",
    "# !pip install transformers datasets evaluate scikit-learn matplotlib seaborn\n",
    "# !pip3 install torch torchvision torchaudio --index-url https://download.pytorch.org/whl/cu118\n",
    "# !pip install transformers datasets evaluate\n",
    "# !pip install torch torchvision torchaudio --index-url https://download.pytorch.org/whl/cpu\n",
    "# !pip install torch torchvision torchaudio --index-url https://download.pytorch.org/whl/cu118\n",
    "\n",
    "\n",
    "#pip install torch torchvision torchaudio --index-url https://download.pytorch.org/whl/cu118\n",
    "\n"
   ]
  },
  {
   "cell_type": "code",
   "execution_count": 6,
   "id": "f5e46e16",
   "metadata": {},
   "outputs": [
    {
     "name": "stdout",
     "output_type": "stream",
     "text": [
      "Используемое устройство: cpu\n"
     ]
    }
   ],
   "source": [
    "import pandas as pd\n",
    "import numpy as np\n",
    "import torch\n",
    "from sklearn.model_selection import train_test_split\n",
    "from sklearn.metrics import roc_auc_score, roc_curve, r2_score, classification_report\n",
    "import matplotlib.pyplot as plt\n",
    "import seaborn as sns\n",
    "from transformers import AutoTokenizer, AutoModelForSequenceClassification, TrainingArguments, Trainer\n",
    "from transformers import DataCollatorWithPadding\n",
    "from datasets import Dataset\n",
    "\n",
    "sns.set(style='whitegrid')\n",
    "device = torch.device(\"cuda\" if torch.cuda.is_available() else \"cpu\")\n",
    "print(\"Используемое устройство:\", device)\n"
   ]
  },
  {
   "cell_type": "code",
   "execution_count": null,
   "id": "afcc85ce",
   "metadata": {},
   "outputs": [
    {
     "ename": "NameError",
     "evalue": "name 'train_test_split' is not defined",
     "output_type": "error",
     "traceback": [
      "\u001b[31m---------------------------------------------------------------------------\u001b[39m",
      "\u001b[31mNameError\u001b[39m                                 Traceback (most recent call last)",
      "\u001b[36mCell\u001b[39m\u001b[36m \u001b[39m\u001b[32mIn[8]\u001b[39m\u001b[32m, line 14\u001b[39m\n\u001b[32m     11\u001b[39m text_column = \u001b[33m\"\u001b[39m\u001b[33mcomment\u001b[39m\u001b[33m\"\u001b[39m\n\u001b[32m     12\u001b[39m df[text_column] = df[text_column].fillna(\u001b[33m\"\u001b[39m\u001b[33m\"\u001b[39m)\n\u001b[32m---> \u001b[39m\u001b[32m14\u001b[39m X_train, X_test, y_train, y_test = \u001b[43mtrain_test_split\u001b[49m(df[text_column], df[target_columns], test_size=\u001b[32m0.2\u001b[39m, random_state=\u001b[32m42\u001b[39m)\n\u001b[32m     15\u001b[39m train_df = pd.DataFrame({text_column: X_train, **{col: y_train[col].values \u001b[38;5;28;01mfor\u001b[39;00m col \u001b[38;5;129;01min\u001b[39;00m target_columns}})\n\u001b[32m     16\u001b[39m test_df = pd.DataFrame({text_column: X_test, **{col: y_test[col].values \u001b[38;5;28;01mfor\u001b[39;00m col \u001b[38;5;129;01min\u001b[39;00m target_columns}})\n",
      "\u001b[31mNameError\u001b[39m: name 'train_test_split' is not defined"
     ]
    }
   ],
   "source": [
    "# Загрузка и подготовка данных\n",
    "df = pd.read_csv(\"processed_data_new.csv\")\n",
    "target_columns = [\n",
    "    \"Вопрос решен\",\n",
    "    \"Нравится качество выполнения заявки\",\n",
    "    \"Нравится качество работы сотрудников\",\n",
    "    \"Нравится скорость отработки заявок\",\n",
    "    \"Понравилось выполнение заявки\",\n",
    "    \"Ничего из перечисленного\"\n",
    "]\n",
    "text_column = \"comment\"\n",
    "df[text_column] = df[text_column].fillna(\"\")\n",
    "\n",
    "X_train, X_test, y_train, y_test = train_test_split(df[text_column], df[target_columns], test_size=0.2, random_state=42)\n",
    "train_df = pd.DataFrame({text_column: X_train, **{col: y_train[col].values for col in target_columns}})\n",
    "test_df = pd.DataFrame({text_column: X_test, **{col: y_test[col].values for col in target_columns}})\n"
   ]
  },
  {
   "cell_type": "code",
   "execution_count": null,
   "id": "cd350bd5",
   "metadata": {},
   "outputs": [],
   "source": [
    "model_name = \"distilbert-base-uncased\"\n",
    "tokenizer = AutoTokenizer.from_pretrained(model_name)\n",
    "\n",
    "def tokenize_function(example):\n",
    "    return tokenizer(example[text_column], truncation=True)\n",
    "\n",
    "train_dataset = Dataset.from_pandas(train_df)\n",
    "test_dataset = Dataset.from_pandas(test_df)\n",
    "\n",
    "train_dataset = train_dataset.map(tokenize_function, batched=True)\n",
    "test_dataset = test_dataset.map(tokenize_function, batched=True)\n",
    "\n",
    "data_collator = DataCollatorWithPadding(tokenizer=tokenizer)\n"
   ]
  },
  {
   "cell_type": "code",
   "execution_count": null,
   "id": "ed960247",
   "metadata": {},
   "outputs": [],
   "source": [
    "model = AutoModelForSequenceClassification.from_pretrained(\n",
    "    model_name,\n",
    "    num_labels=len(target_columns),\n",
    "    problem_type=\"multi_label_classification\"\n",
    ")\n",
    "\n",
    "def compute_metrics(p):\n",
    "    preds = torch.sigmoid(torch.tensor(p.predictions)).numpy()\n",
    "    y_true = p.label_ids\n",
    "    aucs = [roc_auc_score(y_true[:, i], preds[:, i]) if len(np.unique(y_true[:, i])) > 1 else np.nan for i in range(len(target_columns))]\n",
    "    r2 = r2_score(y_true, preds)\n",
    "    return {\n",
    "        \"macro_roc_auc\": np.nanmean(aucs),\n",
    "        \"r2_score\": r2\n",
    "    }\n",
    "\n",
    "train_dataset = train_dataset.rename_columns({col: f\"label_{i}\" for i, col in enumerate(target_columns)})\n",
    "test_dataset = test_dataset.rename_columns({col: f\"label_{i}\" for i, col in enumerate(target_columns)})\n",
    "\n",
    "train_dataset = train_dataset.with_format(\"torch\")\n",
    "test_dataset = test_dataset.with_format(\"torch\")\n",
    "\n",
    "args = TrainingArguments(\n",
    "    output_dir=\"./results\",\n",
    "    evaluation_strategy=\"epoch\",\n",
    "    learning_rate=2e-5,\n",
    "    per_device_train_batch_size=8,\n",
    "    per_device_eval_batch_size=8,\n",
    "    num_train_epochs=2,\n",
    "    weight_decay=0.01,\n",
    "    logging_dir=\"./logs\"\n",
    ")\n",
    "\n",
    "trainer = Trainer(\n",
    "    model=model,\n",
    "    args=args,\n",
    "    train_dataset=train_dataset,\n",
    "    eval_dataset=test_dataset,\n",
    "    tokenizer=tokenizer,\n",
    "    data_collator=data_collator,\n",
    "    compute_metrics=compute_metrics\n",
    ")\n"
   ]
  },
  {
   "cell_type": "code",
   "execution_count": null,
   "id": "2dd372ce",
   "metadata": {},
   "outputs": [],
   "source": [
    "trainer.train()"
   ]
  },
  {
   "cell_type": "code",
   "execution_count": null,
   "id": "75918b79",
   "metadata": {},
   "outputs": [],
   "source": [
    "raw_pred, _, _ = trainer.predict(test_dataset)\n",
    "probs = torch.sigmoid(torch.tensor(raw_pred)).numpy()\n",
    "y_true = y_test[target_columns].values\n",
    "y_pred_bin = (probs >= 0.5).astype(int)\n",
    "\n",
    "# ROC-кривые\n",
    "plt.figure(figsize=(12, 8))\n",
    "roc_scores = {}\n",
    "for i, label in enumerate(target_columns):\n",
    "    if len(np.unique(y_true[:, i])) > 1:\n",
    "        fpr, tpr, _ = roc_curve(y_true[:, i], probs[:, i])\n",
    "        score = roc_auc_score(y_true[:, i], probs[:, i])\n",
    "        roc_scores[label] = score\n",
    "        plt.plot(fpr, tpr, label=f\"{label} (AUC = {score:.2f})\")\n",
    "plt.plot([0, 1], [0, 1], 'k--')\n",
    "plt.xlabel(\"False Positive Rate\")\n",
    "plt.ylabel(\"True Positive Rate\")\n",
    "plt.title(\"ROC-кривые по категориям\")\n",
    "plt.legend()\n",
    "plt.grid(True)\n",
    "plt.tight_layout()\n",
    "plt.show()\n",
    "\n",
    "# R2\n",
    "print(\"\\nR² (коэффициент детерминации):\", r2_score(y_true, probs))\n"
   ]
  }
 ],
 "metadata": {
  "kernelspec": {
   "display_name": ".venv",
   "language": "python",
   "name": "python3"
  },
  "language_info": {
   "codemirror_mode": {
    "name": "ipython",
    "version": 3
   },
   "file_extension": ".py",
   "mimetype": "text/x-python",
   "name": "python",
   "nbconvert_exporter": "python",
   "pygments_lexer": "ipython3",
   "version": "3.11.9"
  }
 },
 "nbformat": 4,
 "nbformat_minor": 5
}
