{
 "cells": [
  {
   "cell_type": "code",
   "execution_count": null,
   "id": "ec1283e6",
   "metadata": {},
   "outputs": [],
   "source": [
    "import pandas as pd"
   ]
  },
  {
   "cell_type": "markdown",
   "id": "0d740427",
   "metadata": {},
   "source": [
    "2. Загрузка обработанных данных\n",
    "\n",
    "Данные были предварительно обработаны: удалены дубликаты, категории приведены к бинарному формату, добавлена категория \"Ничего из перечисленного\".\n"
   ]
  },
  {
   "cell_type": "code",
   "execution_count": 2,
   "id": "19d1c15f",
   "metadata": {},
   "outputs": [
    {
     "name": "stdout",
     "output_type": "stream",
     "text": [
      "Данные успешно загружены.\n",
      "Размер датасета: (2373, 9)\n",
      "Первые 5 строк:\n",
      "                                          categories  \\\n",
      "0                                       Вопрос решен   \n",
      "1  {\"choices\":[\"Понравилось выполнение заявки\",\"В...   \n",
      "2  {\"choices\":[\"Понравилось выполнение заявки\",\"В...   \n",
      "3  {\"choices\":[\"Нравится скорость отработки заяво...   \n",
      "4  {\"choices\":[\"Нравится качество работы сотрудни...   \n",
      "\n",
      "                                        comment       id  rating  \\\n",
      "0                                       спасибо  2945792       5   \n",
      "1                                      спасибо!  3234340       5   \n",
      "2                                      Отлично   3380332       5   \n",
      "3  Благодарю за оперативное решение проблемы !   3381812       5   \n",
      "4         Прекрасный специалист! Побольше таких  3461991       5   \n",
      "\n",
      "   Вопрос решен  Нравится качество выполнения заявки  \\\n",
      "0             1                                    0   \n",
      "1             1                                    0   \n",
      "2             1                                    0   \n",
      "3             1                                    0   \n",
      "4             1                                    0   \n",
      "\n",
      "   Нравится качество работы сотрудников  Нравится скорость отработки заявок  \\\n",
      "0                                     0                                   0   \n",
      "1                                     0                                   0   \n",
      "2                                     0                                   0   \n",
      "3                                     0                                   1   \n",
      "4                                     1                                   0   \n",
      "\n",
      "   Понравилось выполнение заявки  \n",
      "0                              0  \n",
      "1                              1  \n",
      "2                              1  \n",
      "3                              1  \n",
      "4                              1  \n",
      "Информация о датасете:\n",
      "<class 'pandas.core.frame.DataFrame'>\n",
      "RangeIndex: 2373 entries, 0 to 2372\n",
      "Data columns (total 9 columns):\n",
      " #   Column                                Non-Null Count  Dtype \n",
      "---  ------                                --------------  ----- \n",
      " 0   categories                            2371 non-null   object\n",
      " 1   comment                               2373 non-null   object\n",
      " 2   id                                    2373 non-null   int64 \n",
      " 3   rating                                2373 non-null   int64 \n",
      " 4   Вопрос решен                          2373 non-null   int64 \n",
      " 5   Нравится качество выполнения заявки   2373 non-null   int64 \n",
      " 6   Нравится качество работы сотрудников  2373 non-null   int64 \n",
      " 7   Нравится скорость отработки заявок    2373 non-null   int64 \n",
      " 8   Понравилось выполнение заявки         2373 non-null   int64 \n",
      "dtypes: int64(7), object(2)\n",
      "memory usage: 167.0+ KB\n"
     ]
    }
   ],
   "source": [
    "data_path = 'Test данные.csv'\n",
    "\n",
    "try:\n",
    "    df = pd.read_csv(data_path)\n",
    "    print(\"Данные успешно загружены.\")\n",
    "    print(f\"Размер датасета: {df.shape}\")\n",
    "    print(\"Первые 5 строк:\")\n",
    "    print(df.head())\n",
    "    print(\"Информация о датасете:\")\n",
    "    df.info()\n",
    "except FileNotFoundError:\n",
    "    print(f\"Файл не найден по пути: {data_path}. Убедитесь, что путь указан верно.\")"
   ]
  }
 ],
 "metadata": {
  "kernelspec": {
   "display_name": ".venv",
   "language": "python",
   "name": "python3"
  },
  "language_info": {
   "codemirror_mode": {
    "name": "ipython",
    "version": 3
   },
   "file_extension": ".py",
   "mimetype": "text/x-python",
   "name": "python",
   "nbconvert_exporter": "python",
   "pygments_lexer": "ipython3",
   "version": "3.12.6"
  }
 },
 "nbformat": 4,
 "nbformat_minor": 5
}
